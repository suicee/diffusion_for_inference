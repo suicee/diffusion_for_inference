{
 "cells": [
  {
   "cell_type": "code",
   "execution_count": 1,
   "metadata": {},
   "outputs": [],
   "source": [
    "import  os\n",
    "#set visibile cuda\n",
    "os.environ[\"CUDA_VISIBLE_DEVICES\"]=\"8\""
   ]
  },
  {
   "cell_type": "code",
   "execution_count": 3,
   "metadata": {},
   "outputs": [],
   "source": [
    "import torch\n",
    "from torch import nn\n",
    "import numpy as np\n",
    "import normflows as nf\n",
    "from IPython import display\n",
    "from torch.utils.data import TensorDataset\n",
    "\n",
    "\n",
    "from matplotlib import pyplot as plt\n",
    "\n",
    "from tqdm import tqdm\n",
    "# from tools.NF import EnsembleModel,CondEnsembleModel\n",
    "# from tools.reject_sampling import reject_sample,reject_sample_rf\n",
    "# from ndtest.ksnd import ks2d2s\n",
    "#Import ks2sampl\n",
    "from scipy.stats import ks_2samp\n",
    "\n",
    "device='cuda'"
   ]
  },
  {
   "cell_type": "code",
   "execution_count": 4,
   "metadata": {},
   "outputs": [],
   "source": [
    "import logging\n",
    "\n",
    "logging.basicConfig(format = '%(asctime)s - %(levelname)s -   %(message)s',\n",
    "                datefmt = '%m/%d/%Y %H:%M:%S',\n",
    "                level = logging.INFO)"
   ]
  },
  {
   "cell_type": "code",
   "execution_count": 9,
   "metadata": {},
   "outputs": [],
   "source": [
    "\n",
    "class CondEnsembleModel(nn.Module):\n",
    "    def __init__(self,models,samples_per_time_limit=10000):\n",
    "        super().__init__()\n",
    "        self.models=nn.ModuleList(models)\n",
    "        self.samples_per_time_limit=samples_per_time_limit\n",
    "\n",
    "        assert self.samples_per_time_limit%len(self.models)==0,'samples_per_time_limit must be divisible by number of models'\n",
    "        \n",
    "\n",
    "    def log_prob(self,x,context):\n",
    "        log_prob=torch.zeros(x.shape[0],1).to(x.device)\n",
    "        for model in self.models:\n",
    "            log_prob+=model.log_prob(x,context)\n",
    "        return log_prob/len(self.models)\n",
    "    \n",
    "    def _sample(self,num_samples,contexts):\n",
    "        assert num_samples%len(self.models)==0,'num_samples must be divisible by number of models'\n",
    "        samples=[]\n",
    "        #cut context into len_model parts\n",
    "        contexts=torch.chunk(contexts,len(self.models),dim=0)\n",
    "        for model,context in zip(self.models,contexts):\n",
    "            with torch.no_grad():\n",
    "                samples.append(model.sample(num_samples//len(self.models),context)[0])\n",
    "        return torch.cat(samples,dim=0)\n",
    "    \n",
    "    def sample(self,num_samples,contexts,to_numpy=False):\n",
    "        '''\n",
    "        to_numpy could realse cuda memory during sampling\n",
    "        '''\n",
    "        if num_samples<=self.samples_per_time_limit:\n",
    "            samples=self._sample(num_samples,contexts)\n",
    "            if to_numpy:\n",
    "                samples=samples.detach().cpu().numpy()\n",
    "            return samples\n",
    "        else:\n",
    "            total_samples=[]\n",
    "\n",
    "            assert num_samples%self.samples_per_time_limit==0,\"N_samples must be divisible by sample limit\"\n",
    "\n",
    "            N_chunks=num_samples//self.samples_per_time_limit\n",
    "            contexts_trunks=torch.chunk(contexts,N_chunks,dim=0)\n",
    "            for i in range(N_chunks):\n",
    "                samples=self._sample(self.samples_per_time_limit,contexts_trunks[i])\n",
    "                if to_numpy:\n",
    "                    samples=samples.detach().cpu().numpy()\n",
    "                total_samples.append(samples)\n",
    "            if to_numpy:\n",
    "                return np.concatenate(total_samples,axis=0)\n",
    "            else:\n",
    "                return torch.cat(total_samples,dim=0)\n",
    "\n",
    "def get_conditional_ANSF(dim=2,context_size=2,num_layers=32):\n",
    "\n",
    "    #need to check the meanings of these hyperparameters\n",
    "    hidden_units = 128\n",
    "    hidden_layers = 2\n",
    "\n",
    "    flows = []\n",
    "    for i in range(num_layers):\n",
    "        flows += [nf.flows.AutoregressiveRationalQuadraticSpline(dim, hidden_layers, hidden_units, \n",
    "                                                                num_context_channels=context_size)]\n",
    "        flows += [nf.flows.LULinearPermute(dim)]\n",
    "\n",
    "    # Set base distribution\n",
    "    q0 = nf.distributions.DiagGaussian(dim, trainable=False)\n",
    "        \n",
    "    # Construct flow model\n",
    "    model = nf.ConditionalNormalizingFlow(q0, flows)\n",
    "\n",
    "    return model"
   ]
  },
  {
   "cell_type": "markdown",
   "metadata": {},
   "source": [
    "### Generate Traning Set"
   ]
  },
  {
   "cell_type": "code",
   "execution_count": 6,
   "metadata": {},
   "outputs": [
    {
     "name": "stderr",
     "output_type": "stream",
     "text": [
      "01/25/2024 18:13:26 - INFO -   Note: detected 80 virtual cores but NumExpr set to maximum of 64, check \"NUMEXPR_MAX_THREADS\" environment variable.\n",
      "01/25/2024 18:13:26 - INFO -   Note: NumExpr detected 80 cores but \"NUMEXPR_MAX_THREADS\" not set, so enforcing safe limit of 8.\n",
      "01/25/2024 18:13:26 - INFO -   NumExpr defaulting to 8 threads.\n"
     ]
    }
   ],
   "source": [
    "import sbibm\n",
    "from sbibm.metrics import mmd\n",
    "\n",
    "task = sbibm.get_task(\"two_moons\")  # See sbibm.get_available_tasks() for all tasks\n",
    "prior = task.get_prior()\n",
    "simulator = task.get_simulator()\n",
    "\n",
    "# These objects can then be used for custom inference algorithms, e.g.\n",
    "# we might want to generate simulations by sampling from prior:\n",
    "thetas = prior(num_samples=10000)\n",
    "samples = simulator(thetas)"
   ]
  },
  {
   "cell_type": "code",
   "execution_count": 8,
   "metadata": {},
   "outputs": [
    {
     "data": {
      "text/plain": [
       "<matplotlib.collections.PathCollection at 0x7fcda73481f0>"
      ]
     },
     "execution_count": 8,
     "metadata": {},
     "output_type": "execute_result"
    },
    {
     "data": {
      "image/png": "[encoded data removed]",
      "text/plain": [
       "<Figure size 432x288 with 1 Axes>"
      ]
     },
     "metadata": {
      "needs_background": "light"
     },
     "output_type": "display_data"
    }
   ],
   "source": [
    "# load /work/dante/scripts/VMEval/dataset/sbibm_tasks/two_moons/files/num_observation_1/observation.csv as array\n",
    "obs_loc='/work/dante/scripts/VMEval/dataset/sbibm_tasks/two_moons/files/num_observation_2/'\n",
    "\n",
    "obs=np.loadtxt(os.path.join(obs_loc,'observation.csv'),delimiter=',',skiprows=1)\n",
    "\n",
    "true_theta=np.loadtxt(os.path.join(obs_loc,'true_parameters.csv'),delimiter=',',skiprows=1)\n",
    "\n",
    "ref_posterior=np.loadtxt(os.path.join(obs_loc,'reference_posterior_samples.csv'),delimiter=',',skiprows=1)\n",
    "\n",
    "\n",
    "plt.scatter(ref_posterior[:,0],ref_posterior[:,1],s=1)\n",
    "\n",
    "plt.scatter(true_theta[0],true_theta[1],marker='*',s=100)"
   ]
  },
  {
   "cell_type": "markdown",
   "metadata": {},
   "source": [
    "### Set NF model"
   ]
  },
  {
   "cell_type": "code",
   "execution_count": 10,
   "metadata": {},
   "outputs": [],
   "source": [
    "N_model=1\n",
    "models=[]\n",
    "for _ in range(N_model):\n",
    "    model=get_conditional_ANSF(dim=2,num_layers=16,context_size=2)\n",
    "    device = torch.device('cuda')\n",
    "    model = model.to(device)\n",
    "    models.append(model)"
   ]
  },
  {
   "cell_type": "code",
   "execution_count": 11,
   "metadata": {},
   "outputs": [
    {
     "name": "stderr",
     "output_type": "stream",
     "text": [
      "/tmp/ipykernel_2116705/2975654075.py:4: UserWarning: To copy construct from a tensor, it is recommended to use sourceTensor.clone().detach() or sourceTensor.clone().detach().requires_grad_(True), rather than torch.tensor(sourceTensor).\n",
      "  train_set=TensorDataset(torch.tensor(thetas,dtype=torch.float32),torch.tensor(samples,dtype=torch.float32))\n"
     ]
    }
   ],
   "source": [
    "# train_set=TensorDataset(torch.tensor(samples,dtype=torch.float32),torch.tensor(thetas,dtype=torch.float32)) #NLE\n",
    "\n",
    "#NPE\n",
    "train_set=TensorDataset(torch.tensor(thetas,dtype=torch.float32),torch.tensor(samples,dtype=torch.float32))"
   ]
  },
  {
   "cell_type": "code",
   "execution_count": 19,
   "metadata": {},
   "outputs": [],
   "source": [
    "train_loader = torch.utils.data.DataLoader(train_set, batch_size=128, shuffle=True)"
   ]
  },
  {
   "cell_type": "markdown",
   "metadata": {},
   "source": [
    "### Train NF"
   ]
  },
  {
   "cell_type": "code",
   "execution_count": 20,
   "metadata": {},
   "outputs": [
    {
     "name": "stderr",
     "output_type": "stream",
     "text": [
      "100%|██████████| 79/79 [00:09<00:00,  8.00it/s]\n",
      "100%|██████████| 79/79 [00:09<00:00,  7.98it/s]\n",
      "100%|██████████| 79/79 [00:09<00:00,  8.03it/s]\n",
      "100%|██████████| 79/79 [00:09<00:00,  8.02it/s]\n",
      "100%|██████████| 79/79 [00:10<00:00,  7.84it/s]\n",
      "100%|██████████| 79/79 [00:09<00:00,  8.04it/s]\n",
      "100%|██████████| 79/79 [00:09<00:00,  8.03it/s]\n",
      "100%|██████████| 79/79 [00:09<00:00,  8.04it/s]\n",
      "100%|██████████| 79/79 [00:09<00:00,  8.04it/s]\n",
      "100%|██████████| 79/79 [00:09<00:00,  8.04it/s]\n",
      "100%|██████████| 79/79 [00:09<00:00,  8.05it/s]\n",
      "100%|██████████| 79/79 [00:09<00:00,  8.05it/s]\n",
      "100%|██████████| 79/79 [00:09<00:00,  8.04it/s]\n",
      "100%|██████████| 79/79 [00:09<00:00,  8.03it/s]\n",
      "100%|██████████| 79/79 [00:09<00:00,  8.05it/s]\n",
      "100%|██████████| 79/79 [00:09<00:00,  8.04it/s]\n",
      "100%|██████████| 79/79 [00:09<00:00,  8.04it/s]\n",
      "100%|██████████| 79/79 [00:09<00:00,  8.05it/s]\n",
      "100%|██████████| 79/79 [00:09<00:00,  8.02it/s]\n",
      "100%|██████████| 79/79 [00:09<00:00,  8.03it/s]\n",
      "100%|██████████| 79/79 [00:09<00:00,  8.04it/s]\n",
      "100%|██████████| 79/79 [00:09<00:00,  8.03it/s]\n",
      "100%|██████████| 79/79 [00:09<00:00,  8.02it/s]\n",
      "100%|██████████| 79/79 [00:09<00:00,  8.03it/s]\n",
      "100%|██████████| 79/79 [00:09<00:00,  8.03it/s]\n",
      "100%|██████████| 79/79 [00:09<00:00,  8.04it/s]\n",
      "100%|██████████| 79/79 [00:09<00:00,  8.04it/s]\n",
      "100%|██████████| 79/79 [00:09<00:00,  8.04it/s]\n",
      "100%|██████████| 79/79 [00:09<00:00,  8.04it/s]\n",
      "100%|██████████| 79/79 [00:09<00:00,  8.04it/s]\n",
      "100%|██████████| 79/79 [00:09<00:00,  8.04it/s]\n",
      "100%|██████████| 79/79 [00:09<00:00,  8.04it/s]\n",
      "100%|██████████| 79/79 [00:10<00:00,  7.88it/s]\n",
      "100%|██████████| 79/79 [00:09<00:00,  8.04it/s]\n",
      "100%|██████████| 79/79 [00:09<00:00,  8.04it/s]\n",
      "100%|██████████| 79/79 [00:09<00:00,  8.04it/s]\n",
      "100%|██████████| 79/79 [00:09<00:00,  8.04it/s]\n",
      "100%|██████████| 79/79 [00:09<00:00,  8.04it/s]\n",
      "100%|██████████| 79/79 [00:09<00:00,  8.04it/s]\n",
      "100%|██████████| 79/79 [00:09<00:00,  8.05it/s]\n",
      "100%|██████████| 79/79 [00:09<00:00,  8.05it/s]\n",
      "100%|██████████| 79/79 [00:09<00:00,  8.04it/s]\n",
      "100%|██████████| 79/79 [00:09<00:00,  8.04it/s]\n",
      "100%|██████████| 79/79 [00:10<00:00,  7.83it/s]\n",
      "100%|██████████| 79/79 [00:10<00:00,  7.79it/s]\n",
      "100%|██████████| 79/79 [00:10<00:00,  7.79it/s]\n",
      "100%|██████████| 79/79 [00:10<00:00,  7.78it/s]\n",
      "100%|██████████| 79/79 [00:10<00:00,  7.78it/s]\n",
      "100%|██████████| 79/79 [00:10<00:00,  7.79it/s]\n",
      "100%|██████████| 79/79 [00:10<00:00,  7.80it/s]\n",
      "100%|██████████| 79/79 [00:10<00:00,  7.80it/s]\n",
      "100%|██████████| 79/79 [00:10<00:00,  7.80it/s]\n",
      "100%|██████████| 79/79 [00:10<00:00,  7.79it/s]\n",
      "100%|██████████| 79/79 [00:10<00:00,  7.68it/s]\n",
      "100%|██████████| 79/79 [00:10<00:00,  7.75it/s]\n",
      "100%|██████████| 79/79 [00:10<00:00,  7.78it/s]\n",
      "100%|██████████| 79/79 [00:10<00:00,  7.78it/s]\n",
      "100%|██████████| 79/79 [00:10<00:00,  7.71it/s]\n",
      "100%|██████████| 79/79 [00:09<00:00,  8.09it/s]\n",
      "100%|██████████| 79/79 [00:09<00:00,  8.10it/s]\n",
      "100%|██████████| 79/79 [00:09<00:00,  8.09it/s]\n",
      "100%|██████████| 79/79 [00:09<00:00,  7.93it/s]\n",
      "100%|██████████| 79/79 [00:09<00:00,  8.10it/s]\n",
      "100%|██████████| 79/79 [00:09<00:00,  8.09it/s]\n",
      "100%|██████████| 79/79 [00:09<00:00,  8.10it/s]\n",
      "100%|██████████| 79/79 [00:09<00:00,  8.09it/s]\n",
      "100%|██████████| 79/79 [00:09<00:00,  8.10it/s]\n",
      "100%|██████████| 79/79 [00:09<00:00,  8.09it/s]\n",
      "100%|██████████| 79/79 [00:09<00:00,  8.09it/s]\n",
      "100%|██████████| 79/79 [00:09<00:00,  8.10it/s]\n",
      "100%|██████████| 79/79 [00:09<00:00,  8.11it/s]\n",
      "100%|██████████| 79/79 [00:09<00:00,  8.11it/s]\n",
      "100%|██████████| 79/79 [00:09<00:00,  8.11it/s]\n",
      "100%|██████████| 79/79 [00:09<00:00,  8.10it/s]\n",
      "100%|██████████| 79/79 [00:09<00:00,  8.10it/s]\n",
      "100%|██████████| 79/79 [00:09<00:00,  8.09it/s]\n",
      "100%|██████████| 79/79 [00:09<00:00,  8.09it/s]\n",
      "100%|██████████| 79/79 [00:09<00:00,  8.10it/s]\n",
      "100%|██████████| 79/79 [00:09<00:00,  8.09it/s]\n",
      "100%|██████████| 79/79 [00:09<00:00,  8.09it/s]\n",
      "100%|██████████| 79/79 [00:09<00:00,  8.11it/s]\n",
      "100%|██████████| 79/79 [00:09<00:00,  8.10it/s]\n",
      "100%|██████████| 79/79 [00:09<00:00,  8.09it/s]\n",
      "100%|██████████| 79/79 [00:09<00:00,  8.06it/s]\n",
      "100%|██████████| 79/79 [00:09<00:00,  8.06it/s]\n",
      "100%|██████████| 79/79 [00:09<00:00,  8.05it/s]\n",
      "100%|██████████| 79/79 [00:09<00:00,  8.05it/s]\n",
      "100%|██████████| 79/79 [00:09<00:00,  8.04it/s]\n",
      "100%|██████████| 79/79 [00:09<00:00,  8.05it/s]\n",
      "100%|██████████| 79/79 [00:10<00:00,  7.89it/s]\n",
      "100%|██████████| 79/79 [00:09<00:00,  8.05it/s]\n",
      "100%|██████████| 79/79 [00:09<00:00,  8.06it/s]\n",
      "100%|██████████| 79/79 [00:09<00:00,  8.06it/s]\n",
      "100%|██████████| 79/79 [00:09<00:00,  8.06it/s]\n",
      "100%|██████████| 79/79 [00:09<00:00,  8.05it/s]\n",
      "100%|██████████| 79/79 [00:09<00:00,  8.05it/s]\n",
      "100%|██████████| 79/79 [00:09<00:00,  8.05it/s]\n",
      "100%|██████████| 79/79 [00:09<00:00,  8.07it/s]\n",
      "100%|██████████| 79/79 [00:09<00:00,  8.06it/s]\n",
      "100%|██████████| 79/79 [00:09<00:00,  8.06it/s]\n"
     ]
    }
   ],
   "source": [
    "losses=[]\n",
    "for model in models:\n",
    "\n",
    "    num_epoch = 100\n",
    "    show_iter = 100\n",
    "\n",
    "    loss_hist = np.array([])\n",
    "    optimizer = torch.optim.Adam(model.parameters(), lr=3e-4, weight_decay=1e-5)\n",
    "\n",
    "    batch_trained=0\n",
    "    for epoch in range(num_epoch):\n",
    "        \n",
    "        for batch in tqdm(train_loader):\n",
    "            optimizer.zero_grad()\n",
    "\n",
    "            x = batch[0].to(device)\n",
    "            theta = batch[1].to(device)\n",
    "            \n",
    "            # Compute loss\n",
    "            loss = model.forward_kld(x,theta)\n",
    "            \n",
    "            # Do backprop and optimizer step\n",
    "            if ~(torch.isnan(loss) | torch.isinf(loss)):\n",
    "                loss.backward()\n",
    "                optimizer.step()\n",
    "            \n",
    "            # Log loss\n",
    "            loss_hist = np.append(loss_hist, loss.to('cpu').data.numpy())\n",
    "            \n",
    "            # Plot learned distribution\n",
    "            batch_trained+=1\n",
    "    \n",
    "    losses.append(loss_hist)    \n"
   ]
  },
  {
   "cell_type": "code",
   "execution_count": 21,
   "metadata": {},
   "outputs": [
    {
     "data": {
      "text/plain": [
       "[<matplotlib.lines.Line2D at 0x7fcd700d6b20>]"
      ]
     },
     "execution_count": 21,
     "metadata": {},
     "output_type": "execute_result"
    },
    {
     "data": {
      "image/png": "[encoded data removed]",
      "text/plain": [
       "<Figure size 432x288 with 1 Axes>"
      ]
     },
     "metadata": {
      "needs_background": "light"
     },
     "output_type": "display_data"
    }
   ],
   "source": [
    "plt.plot(np.array(losses).T)"
   ]
  },
  {
   "cell_type": "code",
   "execution_count": 22,
   "metadata": {},
   "outputs": [],
   "source": [
    "ens_nf=CondEnsembleModel(models)"
   ]
  },
  {
   "cell_type": "code",
   "execution_count": 23,
   "metadata": {},
   "outputs": [
    {
     "data": {
      "text/plain": [
       "<matplotlib.collections.PathCollection at 0x7fcd700721c0>"
      ]
     },
     "execution_count": 23,
     "metadata": {},
     "output_type": "execute_result"
    },
    {
     "data": {
      "image/png": "[encoded data removed]",
      "text/plain": [
       "<Figure size 432x288 with 1 Axes>"
      ]
     },
     "metadata": {
      "needs_background": "light"
     },
     "output_type": "display_data"
    }
   ],
   "source": [
    "eval_samples=ens_nf.sample(10000,contexts=torch.tensor(np.repeat(obs[None,:],10000,axis=0),\n",
    "                                                       dtype=torch.float32,device='cuda'),to_numpy=True)\n",
    "\n",
    "plt.scatter(eval_samples[:,0],eval_samples[:,1],s=5,alpha=0.1)"
   ]
  },
  {
   "cell_type": "code",
   "execution_count": 24,
   "metadata": {},
   "outputs": [
    {
     "data": {
      "text/plain": [
       "<matplotlib.collections.PathCollection at 0x7fcd7006b220>"
      ]
     },
     "execution_count": 24,
     "metadata": {},
     "output_type": "execute_result"
    },
    {
     "data": {
      "image/png": "[encoded data removed]",
      "text/plain": [
       "<Figure size 432x288 with 1 Axes>"
      ]
     },
     "metadata": {
      "needs_background": "light"
     },
     "output_type": "display_data"
    }
   ],
   "source": [
    "\n",
    "plt.scatter(ref_posterior[:,0],ref_posterior[:,1],s=1)\n",
    "\n",
    "\n",
    "plt.scatter(eval_samples[:,0],eval_samples[:,1],s=1,alpha=0.1)\n",
    "plt.scatter(true_theta[0],true_theta[1],marker='*',s=100)\n",
    "\n",
    "# plt.xlim(-1,-0.5)\n",
    "# plt.ylim(-0.75,-0.25)"
   ]
  },
  {
   "cell_type": "code",
   "execution_count": 25,
   "metadata": {},
   "outputs": [],
   "source": [
    "np.save('nf_twomoon_pos.npy',eval_samples)"
   ]
  },
  {
   "cell_type": "code",
   "execution_count": null,
   "metadata": {},
   "outputs": [],
   "source": []
  }
 ],
 "metadata": {
  "kernelspec": {
   "display_name": "delfi",
   "language": "python",
   "name": "python3"
  },
  "language_info": {
   "codemirror_mode": {
    "name": "ipython",
    "version": 3
   },
   "file_extension": ".py",
   "mimetype": "text/x-python",
   "name": "python",
   "nbconvert_exporter": "python",
   "pygments_lexer": "ipython3",
   "version": "3.8.13"
  }
 },
 "nbformat": 4,
 "nbformat_minor": 2
}
